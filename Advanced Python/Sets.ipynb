{
 "cells": [
  {
   "cell_type": "markdown",
   "metadata": {},
   "source": [
    "## Sets\n",
    "Sets are the ordered collection of unique items. They are basically lists without any duplicate entries. Sets are represented by curly braces {}."
   ]
  },
  {
   "cell_type": "code",
   "execution_count": 7,
   "metadata": {},
   "outputs": [],
   "source": [
    "#lets define two lists with different elements\n",
    "list_A = ['I', 'am', 'using', 'jupyter', 'lab']\n",
    "list_B = ['I', 'am', 'using', 'jupyter', 'lab', 'and', 'jupyter', 'notebook']"
   ]
  },
  {
   "cell_type": "code",
   "execution_count": 8,
   "metadata": {},
   "outputs": [],
   "source": [
    "#lets convert the above lists into set by wrapping them with the set() function\n",
    "set_A = set(list_A)\n",
    "set_B = set(list_B)"
   ]
  },
  {
   "cell_type": "code",
   "execution_count": 9,
   "metadata": {},
   "outputs": [
    {
     "name": "stdout",
     "output_type": "stream",
     "text": [
      "{'lab', 'am', 'I', 'jupyter', 'using'}\n"
     ]
    }
   ],
   "source": [
    "print(set_A)"
   ]
  },
  {
   "cell_type": "code",
   "execution_count": 10,
   "metadata": {},
   "outputs": [
    {
     "name": "stdout",
     "output_type": "stream",
     "text": [
      "{'lab', 'am', 'I', 'and', 'notebook', 'jupyter', 'using'}\n"
     ]
    }
   ],
   "source": [
    "print(set_B)"
   ]
  },
  {
   "cell_type": "markdown",
   "metadata": {},
   "source": [
    "You can see from the above example that set_B contains only 1 element 'jupyter' whereas list_B contains 2 of those because\n",
    "a set cannot have duplicate entries!"
   ]
  },
  {
   "cell_type": "markdown",
   "metadata": {},
   "source": [
    "## Set Operations"
   ]
  },
  {
   "cell_type": "markdown",
   "metadata": {},
   "source": [
    "## 1. difference, to find the element present in 1st set but not in 2nd"
   ]
  },
  {
   "cell_type": "code",
   "execution_count": 16,
   "metadata": {},
   "outputs": [
    {
     "name": "stdout",
     "output_type": "stream",
     "text": [
      "set()\n",
      "{'notebook', 'and'}\n"
     ]
    }
   ],
   "source": [
    "print(set_A - set_B)\n",
    "print(set_B - set_A)"
   ]
  },
  {
   "cell_type": "markdown",
   "metadata": {},
   "source": [
    "The same can be achieved as below:\n",
    "    "
   ]
  },
  {
   "cell_type": "code",
   "execution_count": 14,
   "metadata": {},
   "outputs": [
    {
     "name": "stdout",
     "output_type": "stream",
     "text": [
      "set()\n",
      "{'notebook', 'and'}\n"
     ]
    }
   ],
   "source": [
    "print(set_A.difference(set_B))\n",
    "print(set_B.difference(set_A))"
   ]
  },
  {
   "cell_type": "markdown",
   "metadata": {},
   "source": [
    "## 2. intersection, to find the elements common to both the sets"
   ]
  },
  {
   "cell_type": "code",
   "execution_count": 18,
   "metadata": {},
   "outputs": [
    {
     "name": "stdout",
     "output_type": "stream",
     "text": [
      "{'lab', 'am', 'I', 'jupyter', 'using'}\n",
      "{'lab', 'am', 'I', 'jupyter', 'using'}\n"
     ]
    }
   ],
   "source": [
    "print(set_A.intersection(set_B))\n",
    "print(set_B.intersection(set_A))"
   ]
  },
  {
   "cell_type": "markdown",
   "metadata": {},
   "source": [
    "## Set Comprehension\n",
    "Set comprehension can be used to reduce a number of lines of code to a single line as show below:"
   ]
  },
  {
   "cell_type": "code",
   "execution_count": 25,
   "metadata": {},
   "outputs": [
    {
     "name": "stdout",
     "output_type": "stream",
     "text": [
      "{0, 1, 4, 9, 16}\n"
     ]
    }
   ],
   "source": [
    "#using set comprehension to get the set whose elements are square of their index\n",
    "set_comp = {a**2 for a in range(0,5)}\n",
    "print(set_comp)"
   ]
  }
 ],
 "metadata": {
  "kernelspec": {
   "display_name": "Python 3",
   "language": "python",
   "name": "python3"
  },
  "language_info": {
   "codemirror_mode": {
    "name": "ipython",
    "version": 3
   },
   "file_extension": ".py",
   "mimetype": "text/x-python",
   "name": "python",
   "nbconvert_exporter": "python",
   "pygments_lexer": "ipython3",
   "version": "3.6.8"
  }
 },
 "nbformat": 4,
 "nbformat_minor": 4
}
