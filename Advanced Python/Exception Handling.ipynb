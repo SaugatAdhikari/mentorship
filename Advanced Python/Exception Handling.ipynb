{
 "cells": [
  {
   "cell_type": "markdown",
   "metadata": {},
   "source": [
    "## Exception Handling\n",
    "Exceptions in python can be handled with the help of try, except, and finally block. The codes that might possibly contain some errors are kept inside the try block. If the program throws error inside the try block the program flow enters the except block and the code inside the except block is executed. If it still throws error inside the except block, the program flow finally enters inside the finally block. \n",
    "NOTE: The finally block is executed regardless of whether the try or the except block is executed. i.e., finally block is always executed!"
   ]
  },
  {
   "cell_type": "markdown",
   "metadata": {},
   "source": [
    "## Example 1: try block throws Error, but except block doesn't!"
   ]
  },
  {
   "cell_type": "code",
   "execution_count": 11,
   "metadata": {},
   "outputs": [
    {
     "name": "stdout",
     "output_type": "stream",
     "text": [
      "elt printed inside except block:  None\n",
      "The required index is not present in the given list!!!\n"
     ]
    }
   ],
   "source": [
    "#defining a list with different items\n",
    "tmp_lst = ['Python', 'ML', 'DS', 'CV', 'NLP']\n",
    "\n",
    "#lets try to get the 5th element from the above list using try,except,finally block\n",
    "try:\n",
    "    elt = tmp_lst[5] #looks for the 6th element in the list, which throws IndexError as the list contains only 5 elements\n",
    "    print(\"elt printed inside try block: \", elt)\n",
    "except IndexError:\n",
    "    elt = 'None' #as the IndexError is raised, programs enters except block and 'None' is assigned to elt.\n",
    "    print(\"elt printed inside except block: \", elt)\n",
    "finally: \n",
    "    print('The required index is not present in the given list!!!') #the program flow enters the finally block regardless of what happened above"
   ]
  },
  {
   "cell_type": "markdown",
   "metadata": {},
   "source": [
    "## Example 2: both try block and except block throws Error, but the program still enters the finally block"
   ]
  },
  {
   "cell_type": "code",
   "execution_count": 13,
   "metadata": {},
   "outputs": [
    {
     "name": "stdout",
     "output_type": "stream",
     "text": [
      "Framework:  tensorflow\n"
     ]
    },
    {
     "ename": "KeyError",
     "evalue": "'Version'",
     "output_type": "error",
     "traceback": [
      "\u001b[1;31m---------------------------------------------------------------------------\u001b[0m",
      "\u001b[1;31mKeyError\u001b[0m                                  Traceback (most recent call last)",
      "\u001b[1;32m<ipython-input-13-0760a83100ab>\u001b[0m in \u001b[0;36m<module>\u001b[1;34m\u001b[0m\n\u001b[0;32m      5\u001b[0m \u001b[1;32mtry\u001b[0m\u001b[1;33m:\u001b[0m\u001b[1;33m\u001b[0m\u001b[1;33m\u001b[0m\u001b[0m\n\u001b[1;32m----> 6\u001b[1;33m     \u001b[0mide\u001b[0m \u001b[1;33m=\u001b[0m \u001b[0mtmp_dct\u001b[0m\u001b[1;33m[\u001b[0m\u001b[1;34m\"IDE\"\u001b[0m\u001b[1;33m]\u001b[0m \u001b[1;31m#looks for the key \"IDE\", doesn't find it, raises KeyError exception as shown below\u001b[0m\u001b[1;33m\u001b[0m\u001b[1;33m\u001b[0m\u001b[0m\n\u001b[0m\u001b[0;32m      7\u001b[0m     \u001b[0mprint\u001b[0m\u001b[1;33m(\u001b[0m\u001b[1;34m\"IDE : \"\u001b[0m\u001b[1;33m,\u001b[0m \u001b[0mide\u001b[0m\u001b[1;33m)\u001b[0m\u001b[1;33m\u001b[0m\u001b[1;33m\u001b[0m\u001b[0m\n",
      "\u001b[1;31mKeyError\u001b[0m: 'IDE'",
      "\nDuring handling of the above exception, another exception occurred:\n",
      "\u001b[1;31mKeyError\u001b[0m                                  Traceback (most recent call last)",
      "\u001b[1;32m<ipython-input-13-0760a83100ab>\u001b[0m in \u001b[0;36m<module>\u001b[1;34m\u001b[0m\n\u001b[0;32m      7\u001b[0m     \u001b[0mprint\u001b[0m\u001b[1;33m(\u001b[0m\u001b[1;34m\"IDE : \"\u001b[0m\u001b[1;33m,\u001b[0m \u001b[0mide\u001b[0m\u001b[1;33m)\u001b[0m\u001b[1;33m\u001b[0m\u001b[1;33m\u001b[0m\u001b[0m\n\u001b[0;32m      8\u001b[0m \u001b[1;32mexcept\u001b[0m\u001b[1;33m:\u001b[0m\u001b[1;33m\u001b[0m\u001b[1;33m\u001b[0m\u001b[0m\n\u001b[1;32m----> 9\u001b[1;33m     \u001b[0mversion\u001b[0m \u001b[1;33m=\u001b[0m \u001b[0mtmp_dct\u001b[0m\u001b[1;33m[\u001b[0m\u001b[1;34m\"Version\"\u001b[0m\u001b[1;33m]\u001b[0m\u001b[1;33m\u001b[0m\u001b[1;33m\u001b[0m\u001b[0m\n\u001b[0m\u001b[0;32m     10\u001b[0m     \u001b[0mprint\u001b[0m\u001b[1;33m(\u001b[0m\u001b[1;34m\"Version: \"\u001b[0m\u001b[1;33m,\u001b[0m \u001b[0mversion\u001b[0m\u001b[1;33m)\u001b[0m \u001b[1;31m#looks for the key \"Version\", again doesn't find it, raises KeyError exception as shown below\u001b[0m\u001b[1;33m\u001b[0m\u001b[1;33m\u001b[0m\u001b[0m\n\u001b[0;32m     11\u001b[0m \u001b[1;32mfinally\u001b[0m\u001b[1;33m:\u001b[0m\u001b[1;33m\u001b[0m\u001b[1;33m\u001b[0m\u001b[0m\n",
      "\u001b[1;31mKeyError\u001b[0m: 'Version'"
     ]
    }
   ],
   "source": [
    "#defining a dictionary with different key-value pairs\n",
    "tmp_dct = {\"Language\": \"Python\", \"Framework\": \"tensorflow\", \"API\": \"Flask\"}\n",
    "\n",
    "#lets try to  get the value of a keys which are the present in the above dictionary using try, except, finally block\n",
    "try:\n",
    "    ide = tmp_dct[\"IDE\"] #looks for the key \"IDE\", doesn't find it, raises KeyError exception as shown below\n",
    "    print(\"IDE : \", ide)\n",
    "except:\n",
    "    version = tmp_dct[\"Version\"]\n",
    "    print(\"Version: \", version) #looks for the key \"Version\", again doesn't find it, raises KeyError exception as shown below\n",
    "finally:\n",
    "    framework = tmp_dct[\"Framework\"] #looks for the key \"Framework\", finds it and thus prints it as shown below\n",
    "    print(\"Framework: \", framework)\n",
    "    "
   ]
  },
  {
   "cell_type": "markdown",
   "metadata": {},
   "source": [
    "As we can see from above even if the programs finds error inside both the try and the except block, the program enters the finally block and executes the code present there!"
   ]
  }
 ],
 "metadata": {
  "kernelspec": {
   "display_name": "Python 3",
   "language": "python",
   "name": "python3"
  },
  "language_info": {
   "codemirror_mode": {
    "name": "ipython",
    "version": 3
   },
   "file_extension": ".py",
   "mimetype": "text/x-python",
   "name": "python",
   "nbconvert_exporter": "python",
   "pygments_lexer": "ipython3",
   "version": "3.6.8"
  }
 },
 "nbformat": 4,
 "nbformat_minor": 4
}
