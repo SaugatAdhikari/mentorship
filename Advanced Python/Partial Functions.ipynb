{
 "cells": [
  {
   "cell_type": "markdown",
   "metadata": {},
   "source": [
    "## Partial Functions\n",
    "Partial functions are used when you want to have your function with some arguments with a constant value and only few argument's value needs to be variable. It can be achieved by creating a new function and passing only the required argument."
   ]
  },
  {
   "cell_type": "code",
   "execution_count": 4,
   "metadata": {},
   "outputs": [
    {
     "name": "stdout",
     "output_type": "stream",
     "text": [
      "9875\n"
     ]
    }
   ],
   "source": [
    "#partial function is presennt in python's default functools package\n",
    "from functools import partial\n",
    "\n",
    "def equate(a,b,c,x):\n",
    "    result = 1000*a + 100*b + 10*c + x\n",
    "    return result\n",
    "\n",
    "#using partial function to set constant values for variables a,b,c and thus create a new function named 'partial_function'\n",
    "partial_function = partial(equate,9,8,7)\n",
    "\n",
    "#calling partial_function by passing the value of argument x to be 5\n",
    "res = partial_function(5)\n",
    "\n",
    "print(res)"
   ]
  },
  {
   "cell_type": "code",
   "execution_count": null,
   "metadata": {},
   "outputs": [],
   "source": []
  }
 ],
 "metadata": {
  "kernelspec": {
   "display_name": "Python 3",
   "language": "python",
   "name": "python3"
  },
  "language_info": {
   "codemirror_mode": {
    "name": "ipython",
    "version": 3
   },
   "file_extension": ".py",
   "mimetype": "text/x-python",
   "name": "python",
   "nbconvert_exporter": "python",
   "pygments_lexer": "ipython3",
   "version": "3.6.8"
  }
 },
 "nbformat": 4,
 "nbformat_minor": 4
}
